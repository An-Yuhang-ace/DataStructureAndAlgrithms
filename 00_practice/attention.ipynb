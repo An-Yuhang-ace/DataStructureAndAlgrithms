{
 "cells": [
  {
   "cell_type": "code",
   "execution_count": 3,
   "metadata": {},
   "outputs": [
    {
     "name": "stdout",
     "output_type": "stream",
     "text": [
      "selfAttention(\n",
      "  (q): Linear(in_features=128, out_features=128, bias=True)\n",
      "  (k): Linear(in_features=128, out_features=128, bias=True)\n",
      "  (v): Linear(in_features=128, out_features=128, bias=True)\n",
      ")\n"
     ]
    }
   ],
   "source": [
    "# Self-Attention\n",
    "import torch\n",
    "import torch.nn as nn\n",
    "\n",
    "class selfAttention(nn.Module):\n",
    "    def __init__(self, hidden_dim):\n",
    "        super(selfAttention, self).__init__()\n",
    "        # q,k,v matrix\n",
    "        self.q = nn.Linear(hidden_dim, hidden_dim)\n",
    "        self.k = nn.Linear(hidden_dim, hidden_dim)\n",
    "        self.v = nn.Linear(hidden_dim, hidden_dim)\n",
    "        self.scale = torch.sqrt(torch.FloatTensor([hidden_dim]))\n",
    "\n",
    "    def forward(self, x):\n",
    "        # x: (batch_size, seq_length, hidden_dim)\n",
    "        query = self.q(x)\n",
    "        key = self.k(x)\n",
    "        value = self.v(x)\n",
    "        score = torch.matmul(query, key.transpose(1,2)) / self.scale\n",
    "        weight = torch.softmax(score, dim=-1)\n",
    "        output = torch.matmul(weight, value)\n",
    "        return output, weight\n",
    "\n",
    "model = selfAttention(128)\n",
    "x = torch.ones((10, 128))\n",
    "out = model()\n",
    "print(model)"
   ]
  },
  {
   "cell_type": "code",
   "execution_count": 2,
   "metadata": {},
   "outputs": [],
   "source": [
    "# softmax\n",
    "import torch\n",
    "\n",
    "def softmax(x):\n",
    "    # x: (batch_size, feat_dim)\n",
    "    ex = torch.exp(x)\n",
    "    sum = ex.sum(1, keepdim=True)\n",
    "    return ex/sum"
   ]
  }
 ],
 "metadata": {
  "kernelspec": {
   "display_name": "anyuhang",
   "language": "python",
   "name": "python3"
  },
  "language_info": {
   "codemirror_mode": {
    "name": "ipython",
    "version": 3
   },
   "file_extension": ".py",
   "mimetype": "text/x-python",
   "name": "python",
   "nbconvert_exporter": "python",
   "pygments_lexer": "ipython3",
   "version": "3.8.8"
  },
  "orig_nbformat": 4
 },
 "nbformat": 4,
 "nbformat_minor": 2
}
