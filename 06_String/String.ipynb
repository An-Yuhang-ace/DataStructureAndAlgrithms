{
 "cells": [
  {
   "cell_type": "markdown",
   "metadata": {},
   "source": [
    "# String"
   ]
  },
  {
   "cell_type": "markdown",
   "metadata": {},
   "source": [
    "## String of Python"
   ]
  },
  {
   "cell_type": "code",
   "execution_count": 1,
   "metadata": {},
   "outputs": [
    {
     "name": "stdout",
     "output_type": "stream",
     "text": [
      "1.234 12.0 2.4\n",
      "1.234\n",
      "1.234 12.0 2.41.234 12.0 2.4\n",
      "1.234 12.0 2.41.234 12.0 2.4\n",
      "True\n"
     ]
    }
   ],
   "source": [
    "s = \"1.234 12.0 2.4\"\n",
    "print(s)\n",
    "\n",
    "# 可以直接索引\n",
    "print(s[:5])\n",
    "\n",
    "# + 连接, * 重复\n",
    "print(s+s)\n",
    "print(s*2)\n",
    "\n",
    "# in not in 查找\n",
    "print('1' in s)"
   ]
  },
  {
   "cell_type": "code",
   "execution_count": 2,
   "metadata": {},
   "outputs": [
    {
     "name": "stdout",
     "output_type": "stream",
     "text": [
      "['1.234', '12.0', '2.4']\n",
      "12.0\n",
      "1.234_12.0_2.4\n"
     ]
    }
   ],
   "source": [
    "# split切分\n",
    "s = s.split()\n",
    "print(s)\n",
    "\n",
    "f = float(s[1])\n",
    "print(f)\n",
    "\n",
    "# join连接\n",
    "print('_'.join(s))"
   ]
  },
  {
   "cell_type": "code",
   "execution_count": 9,
   "metadata": {},
   "outputs": [
    {
     "name": "stdout",
     "output_type": "stream",
     "text": [
      "12.0\n",
      "12.00\n"
     ]
    }
   ],
   "source": [
    "print(f\"{f}\")\n",
    "print(f\"{f:.2f}\")"
   ]
  },
  {
   "cell_type": "markdown",
   "metadata": {},
   "source": [
    "## 例题\n",
    "\n",
    "1. [翻转单词顺序](./reverseWords.py)  \n",
    "   https://leetcode.cn/problems/fan-zhuan-dan-ci-shun-xu-lcof/"
   ]
  },
  {
   "cell_type": "markdown",
   "metadata": {},
   "source": [
    "## 栈的小题\n",
    "选择/填空可能会考到出栈次序的问题   \n",
    "1. 出栈测序选择题  \n",
    "![Alt text](./picture/image.png)  \n",
    "这种顺序进栈，中途可出栈，求出栈序列的题目是有规律的  \n",
    "假设元素进栈顺序为从小到大进栈（本题即A、B、C、D分别等于1、2、3、4），得到的每个可能的出栈序列须满足：  \n",
    "对于其中任一个元素k，要么，其后边的出栈元素都大于k；要么，其后边的出栈元素中小于k的那些元素按递减顺序排列。  \n",
    "**(题目给的元素少可以测试选项，但元素多的话还是要掌握规律)**\n",
    "\n",
    "2. 1到7，按照顺序入栈，中间可出栈，请问可能的出栈排列共有多少种  \n",
    "按照“对于其中任一个元素k，要么，其后边的出栈元素都大于k；要么，其后边的出栈元素中小于k的那些元素按递减顺序排列”进行计算：  \n",
    "![Alt text](./picture/image-1.png)  \n",
    "参考：https://zhuanlan.zhihu.com/p/391237550 "
   ]
  }
 ],
 "metadata": {
  "kernelspec": {
   "display_name": "Python 3",
   "language": "python",
   "name": "python3"
  },
  "language_info": {
   "codemirror_mode": {
    "name": "ipython",
    "version": 3
   },
   "file_extension": ".py",
   "mimetype": "text/x-python",
   "name": "python",
   "nbconvert_exporter": "python",
   "pygments_lexer": "ipython3",
   "version": "3.8.8"
  },
  "orig_nbformat": 4
 },
 "nbformat": 4,
 "nbformat_minor": 2
}
