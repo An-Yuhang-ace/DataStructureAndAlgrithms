{
 "cells": [
  {
   "cell_type": "code",
   "execution_count": 1,
   "metadata": {},
   "outputs": [
    {
     "name": "stdout",
     "output_type": "stream",
     "text": [
      "1.234 12.0 2.4\n",
      "1.234\n",
      "1.234 12.0 2.41.234 12.0 2.4\n",
      "1.234 12.0 2.41.234 12.0 2.4\n",
      "True\n"
     ]
    }
   ],
   "source": [
    "s = \"1.234 12.0 2.4\"\n",
    "print(s)\n",
    "\n",
    "# 可以直接索引\n",
    "print(s[:5])\n",
    "\n",
    "# + 连接, * 重复\n",
    "print(s+s)\n",
    "print(s*2)\n",
    "\n",
    "# in not in 查找\n",
    "print('1' in s)"
   ]
  },
  {
   "cell_type": "code",
   "execution_count": 2,
   "metadata": {},
   "outputs": [
    {
     "name": "stdout",
     "output_type": "stream",
     "text": [
      "['1.234', '12.0', '2.4']\n",
      "12.0\n",
      "1.234_12.0_2.4\n"
     ]
    }
   ],
   "source": [
    "# split切分\n",
    "s = s.split()\n",
    "print(s)\n",
    "\n",
    "f = float(s[1])\n",
    "print(f)\n",
    "\n",
    "# join连接\n",
    "print('_'.join(s))"
   ]
  },
  {
   "cell_type": "code",
   "execution_count": 9,
   "metadata": {},
   "outputs": [
    {
     "name": "stdout",
     "output_type": "stream",
     "text": [
      "12.0\n",
      "12.00\n"
     ]
    }
   ],
   "source": [
    "print(f\"{f}\")\n",
    "print(f\"{f:.2f}\")"
   ]
  },
  {
   "cell_type": "markdown",
   "metadata": {},
   "source": [
    "## 例题\n",
    "\n",
    "1. [翻转单词顺序](./reverseWords.py)  \n",
    "   https://leetcode.cn/problems/fan-zhuan-dan-ci-shun-xu-lcof/"
   ]
  }
 ],
 "metadata": {
  "kernelspec": {
   "display_name": "Python 3",
   "language": "python",
   "name": "python3"
  },
  "language_info": {
   "codemirror_mode": {
    "name": "ipython",
    "version": 3
   },
   "file_extension": ".py",
   "mimetype": "text/x-python",
   "name": "python",
   "nbconvert_exporter": "python",
   "pygments_lexer": "ipython3",
   "version": "3.8.8"
  },
  "orig_nbformat": 4
 },
 "nbformat": 4,
 "nbformat_minor": 2
}
