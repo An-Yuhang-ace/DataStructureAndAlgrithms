{
 "cells": [
  {
   "cell_type": "markdown",
   "metadata": {},
   "source": [
    "# Stack and Queue\n",
    "\n",
    "## Stack of python"
   ]
  },
  {
   "cell_type": "code",
   "execution_count": 1,
   "metadata": {},
   "outputs": [
    {
     "name": "stdout",
     "output_type": "stream",
     "text": [
      "5\n",
      "7\n"
     ]
    }
   ],
   "source": [
    "stack = [3, 4, 5]\n",
    "print(stack.pop())\n",
    "stack.append(6)\n",
    "stack.append(7)\n",
    "print(stack.pop())"
   ]
  },
  {
   "cell_type": "markdown",
   "metadata": {},
   "source": [
    "## Queue of python"
   ]
  },
  {
   "cell_type": "code",
   "execution_count": 3,
   "metadata": {},
   "outputs": [
    {
     "name": "stdout",
     "output_type": "stream",
     "text": [
      "1\n",
      "2\n"
     ]
    }
   ],
   "source": [
    "from collections import deque\n",
    "\n",
    "queue = deque([1, 2, 3])\n",
    "queue.append(4)\n",
    "queue.append(5)\n",
    "print(queue.popleft())\n",
    "print(queue.popleft())"
   ]
  },
  {
   "cell_type": "markdown",
   "metadata": {},
   "source": [
    "## 例题\n",
    "\n",
    "1. [括号匹配](./isValid.py)  \n",
    "   https://leetcode.cn/problems/valid-parentheses/"
   ]
  }
 ],
 "metadata": {
  "kernelspec": {
   "display_name": "anyuhang",
   "language": "python",
   "name": "python3"
  },
  "language_info": {
   "codemirror_mode": {
    "name": "ipython",
    "version": 3
   },
   "file_extension": ".py",
   "mimetype": "text/x-python",
   "name": "python",
   "nbconvert_exporter": "python",
   "pygments_lexer": "ipython3",
   "version": "3.8.8"
  },
  "orig_nbformat": 4
 },
 "nbformat": 4,
 "nbformat_minor": 2
}
