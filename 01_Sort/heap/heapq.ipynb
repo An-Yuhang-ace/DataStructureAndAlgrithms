{
 "cells": [
  {
   "cell_type": "code",
   "execution_count": 1,
   "metadata": {},
   "outputs": [
    {
     "name": "stdout",
     "output_type": "stream",
     "text": [
      "1\n"
     ]
    }
   ],
   "source": [
    "import heapq\n",
    "\n",
    "# 新建一个空的队列\n",
    "pq = []\n",
    "\n",
    "heapq.heappush(pq,1) #将1加入优先队列\n",
    "heapq.heappush(pq,2) #将2加入优先队列\n",
    "heapq.heappush(pq,3) #将3加入优先队列\n",
    "\n",
    "print(heapq.heappop(pq)) # 取出队列中优先级最高的元素，并从队列中删除"
   ]
  },
  {
   "cell_type": "markdown",
   "metadata": {},
   "source": [
    "heapq默认是最小堆  \n",
    "想要修改为最大堆需要重写比较的方法  \n",
    "\n",
    "除此之外还有一个比较简单的方法就是全部*-1  \n",
    "参考slidingWindowMax.py"
   ]
  },
  {
   "cell_type": "code",
   "execution_count": 6,
   "metadata": {},
   "outputs": [
    {
     "name": "stdout",
     "output_type": "stream",
     "text": [
      "[(-3, 1), (-1, 0), (1, 2)]\n",
      "[(-1, 0), (1, 2)]\n"
     ]
    }
   ],
   "source": [
    "# heapify方法，自动堆排序list\n",
    "window = [(1, 2), (-1, 0), (-3, 1)]\n",
    "heapq.heapify(window)\n",
    "print(window)\n",
    "\n",
    "# 首个元素就是堆顶元素\n",
    "heapq.heappop(window)\n",
    "print(window)"
   ]
  }
 ],
 "metadata": {
  "kernelspec": {
   "display_name": "anyuhang",
   "language": "python",
   "name": "python3"
  },
  "language_info": {
   "codemirror_mode": {
    "name": "ipython",
    "version": 3
   },
   "file_extension": ".py",
   "mimetype": "text/x-python",
   "name": "python",
   "nbconvert_exporter": "python",
   "pygments_lexer": "ipython3",
   "version": "3.8.8"
  },
  "orig_nbformat": 4
 },
 "nbformat": 4,
 "nbformat_minor": 2
}
